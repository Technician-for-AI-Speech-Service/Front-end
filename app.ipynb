{
 "cells": [
  {
   "cell_type": "code",
   "execution_count": 3,
   "metadata": {},
   "outputs": [
    {
     "name": "stdout",
     "output_type": "stream",
     "text": [
      " * Serving Flask app '__main__'\n",
      " * Debug mode: on\n"
     ]
    },
    {
     "name": "stderr",
     "output_type": "stream",
     "text": [
      "WARNING: This is a development server. Do not use it in a production deployment. Use a production WSGI server instead.\n",
      " * Running on http://127.0.0.1:5000\n",
      "Press CTRL+C to quit\n",
      " * Restarting with watchdog (windowsapi)\n"
     ]
    },
    {
     "ename": "SystemExit",
     "evalue": "1",
     "output_type": "error",
     "traceback": [
      "An exception has occurred, use %tb to see the full traceback.\n",
      "\u001b[1;31mSystemExit\u001b[0m\u001b[1;31m:\u001b[0m 1\n"
     ]
    }
   ],
   "source": [
    "from flask import Flask, jsonify, Blueprint, redirect, render_template, send_from_directory, session, url_for, flash\n",
    "from flask_mysqldb import MySQL\n",
    "import pymysql\n",
    "import pandas as pd\n",
    "import numpy as np\n",
    "from werkzeug.security import generate_password_hash, check_password_hash\n",
    "from flask_login import LoginManager, login_user, logout_user, login_required, UserMixin, current_user\n",
    "from flask_sqlalchemy import SQLAlchemy\n",
    "from flask_paginate import Pagination, get_page_parameter\n",
    "import secrets\n",
    "import os\n",
    "\n",
    "app = Flask(__name__, static_url_path='/static')\n",
    "app.secret_key = secrets.token_hex(16)\n",
    "\n",
    "\n",
    "# connection = pymysql.connect(host='',  port = 3307, user = ) # 아래와 동일\n",
    "\n",
    "app.config['MYSQL_HOST'] = 'project-db-stu3.smhrd.com'\n",
    "app.config['MYSQL_PORT'] = 3307\n",
    "app.config['MYSQL_USER'] = 'Insa4_IOTB_final_3'\n",
    "app.config['MYSQL_PASSWORD'] = 'aischool3'\n",
    "app.config['MYSQL_DB'] = 'Insa4_IOTB_final_3'\n",
    "\n",
    "mysql = MySQL(app)\n",
    "\n",
    "@app.route('/')\n",
    "def main():\n",
    "    return render_template(\"/main/index.html\")\n",
    "\n",
    "\n",
    "@app.route('/user/register')\n",
    "def register():\n",
    "    return render_template('/user/register.html')\n",
    "\n",
    "@app.route('/user/login')\n",
    "def login():\n",
    "    return render_template('/user/login.html')\n",
    "\n",
    "@app.route('/main/loginMain')\n",
    "def loginMain():\n",
    "    if 'user' in session:\n",
    "        user = session['user']\n",
    "        user_Name = user['user_Name']\n",
    "        return render_template('/main/loginMain.html', message=user_Name)\n",
    "    else:\n",
    "        return render_template('user/loginForm.html')\n",
    "\n",
    "# 실행\n",
    "if __name__ == '__main__':\n",
    "    app.run(debug=True)"
   ]
  },
  {
   "cell_type": "code",
   "execution_count": 4,
   "metadata": {},
   "outputs": [
    {
     "name": "stdout",
     "output_type": "stream",
     "text": [
      "Requirement already satisfied: mysqlclient in c:\\users\\user\\anaconda3\\lib\\site-packages (2.2.0)\n",
      "Note: you may need to restart the kernel to use updated packages.\n"
     ]
    }
   ],
   "source": [
    "%pip install mysqlclient"
   ]
  }
 ],
 "metadata": {
  "kernelspec": {
   "display_name": "base",
   "language": "python",
   "name": "python3"
  },
  "language_info": {
   "codemirror_mode": {
    "name": "ipython",
    "version": 3
   },
   "file_extension": ".py",
   "mimetype": "text/x-python",
   "name": "python",
   "nbconvert_exporter": "python",
   "pygments_lexer": "ipython3",
   "version": "3.10.9"
  }
 },
 "nbformat": 4,
 "nbformat_minor": 2
}
